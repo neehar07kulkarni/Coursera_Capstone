{
 "cells": [
  {
   "cell_type": "markdown",
   "metadata": {},
   "source": [
    "# Moving to Chicago"
   ]
  },
  {
   "cell_type": "markdown",
   "metadata": {},
   "source": [
    "## Introduction"
   ]
  },
  {
   "cell_type": "markdown",
   "metadata": {},
   "source": [
    "Chicago is a large metropolitan city with 77 communities. It's a popular tourist spot in the US and is home to several businesses, restaurants and entertainment options. However, it's one thing to visit such a large city as a tourist and it's another to move permanently and start living especially when you have limited knowledge about the city. This data science project is aimed at assisting people find a suitable community in Chicago that meets their requirements.\n",
    "\n",
    "There are several factors that one considers when looking for a place they can call home - Accessibilily to restaurants, convenience and grocery stores, public transporation, schools and equally important factors such as costs and crime rates etc. In this project, we will lay the foundation for a methodology to make data driven decisions while considering crime rates and also access to popular amenities such as restaurants, shops etc. The idea is to find an ideal location which offers all the amenities one is looking for while choosing a community with a low crime rate per capita."
   ]
  },
  {
   "cell_type": "markdown",
   "metadata": {},
   "source": [
    "## Data"
   ]
  },
  {
   "cell_type": "markdown",
   "metadata": {},
   "source": [
    "The following data has been used for this analysis:\n",
    "\n",
    "1) Chicago Community map: Provides a list of 77 community names and other miscellaneous information which is not used in this study. This data will be used to create a pandas dataframe with a mapping of the community number to the community name. The community names will then serve as inputs to extract geospatial coordinates. The \n",
    "    - https://data.cityofchicago.org/Facilities-Geographic-Boundaries/Boundaries-Community-Areas-current-/cauq-8yn6\n",
    "\n",
    "2) Chicago Population Per Community: Total population per community as of 2017. This data will be used to calculate the crime rate per capita per community. It's possible that more recent and therefore, accurate data is available. However, this data should be sufficient for preliminary analysis.\n",
    "    - https://en.wikipedia.org/wiki/Community_areas_in_Chicago\n",
    "\n",
    "3) Chicago Crime Data: Crime data in 2019 and 2020 per community. A more detailed and therefore large amount of historial data is available on the same website from 2001 onwards. However, to keep things more manageable, data from only the last two recent years has been considered. \n",
    "    - https://data.cityofchicago.org/Public-Safety/Crimes-2019/w98m-zvie\n",
    "    - https://data.cityofchicago.org/Public-Safety/Crimes-2020/qzdf-xmn8\n",
    "\n",
    "4) Geospatial Coordinates of Chicago Communities: Knowing the community names, the Nominatim open source API is used for extracting the geospatial coordinates i.e. the latitude and longtitude information for each community.\n",
    "    - https://nominatim.openstreetmap.org/ui/search.html\n",
    "    \n",
    "5) Exploration for Chicago Communities: the Foursquare API is used to extract venue information of each community in Chicago. This includes information such as restaurants, grocery and convenience stores, transporation, entertainment etc.\n",
    "    - https://foursquare.com/"
   ]
  }
 ],
 "metadata": {
  "kernelspec": {
   "display_name": "Python 3",
   "language": "python",
   "name": "python3"
  },
  "language_info": {
   "codemirror_mode": {
    "name": "ipython",
    "version": 3
   },
   "file_extension": ".py",
   "mimetype": "text/x-python",
   "name": "python",
   "nbconvert_exporter": "python",
   "pygments_lexer": "ipython3",
   "version": "3.7.4"
  }
 },
 "nbformat": 4,
 "nbformat_minor": 2
}
